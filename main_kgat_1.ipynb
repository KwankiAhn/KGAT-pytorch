{
 "cells": [
  {
   "cell_type": "markdown",
   "id": "f4415a18",
   "metadata": {},
   "source": [
    "# DataLoaderKGAT"
   ]
  },
  {
   "cell_type": "code",
   "execution_count": 12,
   "id": "add66199",
   "metadata": {},
   "outputs": [
    {
     "data": {
      "text/html": [
       "<style>.container { width:98% !important; }</style>"
      ],
      "text/plain": [
       "<IPython.core.display.HTML object>"
      ]
     },
     "metadata": {},
     "output_type": "display_data"
    }
   ],
   "source": [
    "from IPython.display import display, HTML\n",
    "display(HTML(\"<style>.container { width:98% !important; }</style>\"))"
   ]
  },
  {
   "cell_type": "code",
   "execution_count": 13,
   "id": "b9669dfc",
   "metadata": {},
   "outputs": [],
   "source": [
    "import os\n",
    "import sys\n",
    "import random\n",
    "from time import time\n",
    "\n",
    "import pandas as pd\n",
    "from tqdm import tqdm\n",
    "import torch.nn as nn\n",
    "import torch.optim as optim\n",
    "\n",
    "from model.KGAT import KGAT\n",
    "from parser.parser_kgat import *\n",
    "from utils.log_helper import *\n",
    "from utils.metrics import *\n",
    "from utils.model_helper import *\n",
    "# from data_loader.loader_kgat import DataLoaderKGAT"
   ]
  },
  {
   "cell_type": "code",
   "execution_count": 18,
   "id": "650a84c3",
   "metadata": {},
   "outputs": [],
   "source": [
    "import os\n",
    "import random\n",
    "import collections\n",
    "\n",
    "import torch\n",
    "import numpy as np\n",
    "import pandas as pd\n",
    "import scipy.sparse as sp\n",
    "\n",
    "from data_loader.loader_base import DataLoaderBase\n",
    "\n",
    "class DataLoaderKGAT(DataLoaderBase):\n",
    "    def __init__(self, args, logging):\n",
    "        super().__init__(args, logging)\n",
    "        self.cf_batch_size = args.cf_batch_size\n",
    "        self.kg_batch_size = args.kg_batch_size\n",
    "        self.test_batch_size = args.test_batch_size\n",
    "\n",
    "        self.kg_data = self.load_kg(self.kg_file)\n",
    "        # self.construct_data(kg_data)\n",
    "        # self.print_info(logging)\n",
    "\n",
    "        self.laplacian_type = args.laplacian_type\n",
    "        # self.create_adjacency_dict()\n",
    "        # self.create_laplacian_dict()\n",
    "        \n",
    "    def construct_data(self, kg_data):\n",
    "        # add inverse kg data\n",
    "        n_relations = max(kg_data['r']) + 1\n",
    "        inverse_kg_data = kg_data.copy()\n",
    "        inverse_kg_data = inverse_kg_data.rename({'h': 't', 't': 'h'}, axis='columns')\n",
    "        inverse_kg_data['r'] += n_relations\n",
    "        kg_data = pd.concat([kg_data, inverse_kg_data], axis=0, ignore_index=True, sort=False)\n",
    "\n",
    "        # re-map user id\n",
    "        kg_data['r'] += 2\n",
    "        self.n_relations = max(kg_data['r']) + 1\n",
    "        self.n_entities = max(max(kg_data['h']), max(kg_data['t'])) + 1\n",
    "        self.n_users_entities = self.n_users + self.n_entities\n",
    "\n",
    "        self.cf_train_data = (np.array(list(map(lambda d: d + self.n_entities, self.cf_train_data[0]))).astype(np.int32), self.cf_train_data[1].astype(np.int32))\n",
    "        self.cf_test_data = (np.array(list(map(lambda d: d + self.n_entities, self.cf_test_data[0]))).astype(np.int32), self.cf_test_data[1].astype(np.int32))\n",
    "\n",
    "        self.train_user_dict = {k + self.n_entities: np.unique(v).astype(np.int32) for k, v in self.train_user_dict.items()}\n",
    "        self.test_user_dict = {k + self.n_entities: np.unique(v).astype(np.int32) for k, v in self.test_user_dict.items()}\n",
    "\n",
    "        # add interactions to kg data\n",
    "        cf2kg_train_data = pd.DataFrame(np.zeros((self.n_cf_train, 3), dtype=np.int32), columns=['h', 'r', 't'])\n",
    "        cf2kg_train_data['h'] = self.cf_train_data[0]\n",
    "        cf2kg_train_data['t'] = self.cf_train_data[1]\n",
    "\n",
    "        inverse_cf2kg_train_data = pd.DataFrame(np.ones((self.n_cf_train, 3), dtype=np.int32), columns=['h', 'r', 't'])\n",
    "        inverse_cf2kg_train_data['h'] = self.cf_train_data[1]\n",
    "        inverse_cf2kg_train_data['t'] = self.cf_train_data[0]\n",
    "\n",
    "        self.kg_train_data = pd.concat([kg_data, cf2kg_train_data, inverse_cf2kg_train_data], ignore_index=True)\n",
    "        self.n_kg_train = len(self.kg_train_data)\n",
    "\n",
    "        # construct kg dict\n",
    "        h_list = []\n",
    "        t_list = []\n",
    "        r_list = []\n",
    "\n",
    "        self.train_kg_dict = collections.defaultdict(list)\n",
    "        self.train_relation_dict = collections.defaultdict(list)\n",
    "\n",
    "        for row in self.kg_train_data.iterrows():\n",
    "            h, r, t = row[1]\n",
    "            h_list.append(h)\n",
    "            t_list.append(t)\n",
    "            r_list.append(r)\n",
    "\n",
    "            self.train_kg_dict[h].append((t, r))\n",
    "            self.train_relation_dict[r].append((h, t))\n",
    "\n",
    "        self.h_list = torch.LongTensor(h_list)\n",
    "        self.t_list = torch.LongTensor(t_list)\n",
    "        self.r_list = torch.LongTensor(r_list)\n",
    "        "
   ]
  },
  {
   "cell_type": "code",
   "execution_count": 29,
   "id": "924f977b",
   "metadata": {
    "scrolled": false
   },
   "outputs": [],
   "source": [
    "args = parse_kgat_args()\n",
    "\n",
    "# Custom args for testing\n",
    "args.use_pretrain = 0\n",
    "\n",
    "data = DataLoaderKGAT(args, logging)"
   ]
  },
  {
   "cell_type": "code",
   "execution_count": 30,
   "id": "18a7336a",
   "metadata": {},
   "outputs": [
    {
     "name": "stdout",
     "output_type": "stream",
     "text": [
      "Sparsity=99.952%\n"
     ]
    }
   ],
   "source": [
    "data.n_users, data.n_items, data.n_cf_train, data.n_cf_test, data.n_cf_train+data.n_cf_test\n",
    "fullSize = data.n_users * data.n_items\n",
    "validity = data.n_cf_train+data.n_cf_test\n",
    "print(f\"Sparsity={(1.0 - validity / fullSize) * 100.0:.3f}%\")"
   ]
  },
  {
   "cell_type": "code",
   "execution_count": 31,
   "id": "0fc609a8",
   "metadata": {},
   "outputs": [
    {
     "data": {
      "text/html": [
       "<div>\n",
       "<style scoped>\n",
       "    .dataframe tbody tr th:only-of-type {\n",
       "        vertical-align: middle;\n",
       "    }\n",
       "\n",
       "    .dataframe tbody tr th {\n",
       "        vertical-align: top;\n",
       "    }\n",
       "\n",
       "    .dataframe thead th {\n",
       "        text-align: right;\n",
       "    }\n",
       "</style>\n",
       "<table border=\"1\" class=\"dataframe\">\n",
       "  <thead>\n",
       "    <tr style=\"text-align: right;\">\n",
       "      <th></th>\n",
       "      <th>h</th>\n",
       "      <th>r</th>\n",
       "      <th>t</th>\n",
       "    </tr>\n",
       "  </thead>\n",
       "  <tbody>\n",
       "    <tr>\n",
       "      <th>0</th>\n",
       "      <td>24915</td>\n",
       "      <td>0</td>\n",
       "      <td>24916</td>\n",
       "    </tr>\n",
       "    <tr>\n",
       "      <th>1</th>\n",
       "      <td>24917</td>\n",
       "      <td>1</td>\n",
       "      <td>5117</td>\n",
       "    </tr>\n",
       "    <tr>\n",
       "      <th>2</th>\n",
       "      <td>24918</td>\n",
       "      <td>0</td>\n",
       "      <td>24917</td>\n",
       "    </tr>\n",
       "    <tr>\n",
       "      <th>3</th>\n",
       "      <td>24919</td>\n",
       "      <td>1</td>\n",
       "      <td>24920</td>\n",
       "    </tr>\n",
       "    <tr>\n",
       "      <th>4</th>\n",
       "      <td>24921</td>\n",
       "      <td>2</td>\n",
       "      <td>24922</td>\n",
       "    </tr>\n",
       "    <tr>\n",
       "      <th>...</th>\n",
       "      <td>...</td>\n",
       "      <td>...</td>\n",
       "      <td>...</td>\n",
       "    </tr>\n",
       "    <tr>\n",
       "      <th>2557741</th>\n",
       "      <td>55167</td>\n",
       "      <td>3</td>\n",
       "      <td>24942</td>\n",
       "    </tr>\n",
       "    <tr>\n",
       "      <th>2557742</th>\n",
       "      <td>24925</td>\n",
       "      <td>1</td>\n",
       "      <td>67332</td>\n",
       "    </tr>\n",
       "    <tr>\n",
       "      <th>2557743</th>\n",
       "      <td>41753</td>\n",
       "      <td>0</td>\n",
       "      <td>24942</td>\n",
       "    </tr>\n",
       "    <tr>\n",
       "      <th>2557744</th>\n",
       "      <td>24923</td>\n",
       "      <td>1</td>\n",
       "      <td>97956</td>\n",
       "    </tr>\n",
       "    <tr>\n",
       "      <th>2557745</th>\n",
       "      <td>24919</td>\n",
       "      <td>1</td>\n",
       "      <td>104886</td>\n",
       "    </tr>\n",
       "  </tbody>\n",
       "</table>\n",
       "<p>2557746 rows × 3 columns</p>\n",
       "</div>"
      ],
      "text/plain": [
       "             h  r       t\n",
       "0        24915  0   24916\n",
       "1        24917  1    5117\n",
       "2        24918  0   24917\n",
       "3        24919  1   24920\n",
       "4        24921  2   24922\n",
       "...        ... ..     ...\n",
       "2557741  55167  3   24942\n",
       "2557742  24925  1   67332\n",
       "2557743  41753  0   24942\n",
       "2557744  24923  1   97956\n",
       "2557745  24919  1  104886\n",
       "\n",
       "[2557746 rows x 3 columns]"
      ]
     },
     "metadata": {},
     "output_type": "display_data"
    },
    {
     "data": {
      "text/plain": [
       "array([[<AxesSubplot:title={'center':'h'}>,\n",
       "        <AxesSubplot:title={'center':'r'}>,\n",
       "        <AxesSubplot:title={'center':'t'}>]], dtype=object)"
      ]
     },
     "metadata": {},
     "output_type": "display_data"
    },
    {
     "data": {
      "image/png": "[encoded data removed]",
      "text/plain": [
       "<Figure size 864x216 with 3 Axes>"
      ]
     },
     "metadata": {
      "needs_background": "light"
     },
     "output_type": "display_data"
    }
   ],
   "source": [
    "display(data.kg_data)\n",
    "data.kg_data.describe().apply(lambda s: s.apply('{0:.2f}'.format))\n",
    "display(data.kg_data.hist(figsize=(12,3), layout=(1,3)))"
   ]
  },
  {
   "cell_type": "code",
   "execution_count": 32,
   "id": "ca4341c0",
   "metadata": {},
   "outputs": [],
   "source": [
    "    kg_data = data.kg_data\n",
    "\n",
    "    # add inverse kg data\n",
    "    n_relations = max(kg_data['r']) + 1\n",
    "    inverse_kg_data = kg_data.copy()\n",
    "    inverse_kg_data = inverse_kg_data.rename({'h': 't', 't': 'h'}, axis='columns')\n",
    "    inverse_kg_data['r'] += n_relations\n",
    "    kg_data = pd.concat([kg_data, inverse_kg_data], axis=0, ignore_index=True, sort=False)"
   ]
  },
  {
   "cell_type": "code",
   "execution_count": 33,
   "id": "bcd0d16e",
   "metadata": {},
   "outputs": [
    {
     "data": {
      "text/html": [
       "<div>\n",
       "<style scoped>\n",
       "    .dataframe tbody tr th:only-of-type {\n",
       "        vertical-align: middle;\n",
       "    }\n",
       "\n",
       "    .dataframe tbody tr th {\n",
       "        vertical-align: top;\n",
       "    }\n",
       "\n",
       "    .dataframe thead th {\n",
       "        text-align: right;\n",
       "    }\n",
       "</style>\n",
       "<table border=\"1\" class=\"dataframe\">\n",
       "  <thead>\n",
       "    <tr style=\"text-align: right;\">\n",
       "      <th></th>\n",
       "      <th>h</th>\n",
       "      <th>r</th>\n",
       "      <th>t</th>\n",
       "    </tr>\n",
       "  </thead>\n",
       "  <tbody>\n",
       "    <tr>\n",
       "      <th>0</th>\n",
       "      <td>24915</td>\n",
       "      <td>0</td>\n",
       "      <td>24916</td>\n",
       "    </tr>\n",
       "    <tr>\n",
       "      <th>1</th>\n",
       "      <td>24917</td>\n",
       "      <td>1</td>\n",
       "      <td>5117</td>\n",
       "    </tr>\n",
       "    <tr>\n",
       "      <th>2</th>\n",
       "      <td>24918</td>\n",
       "      <td>0</td>\n",
       "      <td>24917</td>\n",
       "    </tr>\n",
       "    <tr>\n",
       "      <th>3</th>\n",
       "      <td>24919</td>\n",
       "      <td>1</td>\n",
       "      <td>24920</td>\n",
       "    </tr>\n",
       "    <tr>\n",
       "      <th>4</th>\n",
       "      <td>24921</td>\n",
       "      <td>2</td>\n",
       "      <td>24922</td>\n",
       "    </tr>\n",
       "    <tr>\n",
       "      <th>...</th>\n",
       "      <td>...</td>\n",
       "      <td>...</td>\n",
       "      <td>...</td>\n",
       "    </tr>\n",
       "    <tr>\n",
       "      <th>5115487</th>\n",
       "      <td>24942</td>\n",
       "      <td>42</td>\n",
       "      <td>55167</td>\n",
       "    </tr>\n",
       "    <tr>\n",
       "      <th>5115488</th>\n",
       "      <td>67332</td>\n",
       "      <td>40</td>\n",
       "      <td>24925</td>\n",
       "    </tr>\n",
       "    <tr>\n",
       "      <th>5115489</th>\n",
       "      <td>24942</td>\n",
       "      <td>39</td>\n",
       "      <td>41753</td>\n",
       "    </tr>\n",
       "    <tr>\n",
       "      <th>5115490</th>\n",
       "      <td>97956</td>\n",
       "      <td>40</td>\n",
       "      <td>24923</td>\n",
       "    </tr>\n",
       "    <tr>\n",
       "      <th>5115491</th>\n",
       "      <td>104886</td>\n",
       "      <td>40</td>\n",
       "      <td>24919</td>\n",
       "    </tr>\n",
       "  </tbody>\n",
       "</table>\n",
       "<p>5115492 rows × 3 columns</p>\n",
       "</div>"
      ],
      "text/plain": [
       "              h   r      t\n",
       "0         24915   0  24916\n",
       "1         24917   1   5117\n",
       "2         24918   0  24917\n",
       "3         24919   1  24920\n",
       "4         24921   2  24922\n",
       "...         ...  ..    ...\n",
       "5115487   24942  42  55167\n",
       "5115488   67332  40  24925\n",
       "5115489   24942  39  41753\n",
       "5115490   97956  40  24923\n",
       "5115491  104886  40  24919\n",
       "\n",
       "[5115492 rows x 3 columns]"
      ]
     },
     "metadata": {},
     "output_type": "display_data"
    },
    {
     "data": {
      "text/plain": [
       "array([[<AxesSubplot:title={'center':'h'}>,\n",
       "        <AxesSubplot:title={'center':'r'}>,\n",
       "        <AxesSubplot:title={'center':'t'}>]], dtype=object)"
      ]
     },
     "metadata": {},
     "output_type": "display_data"
    },
    {
     "data": {
      "image/png": "[encoded data removed]",
      "text/plain": [
       "<Figure size 864x216 with 3 Axes>"
      ]
     },
     "metadata": {
      "needs_background": "light"
     },
     "output_type": "display_data"
    }
   ],
   "source": [
    "display(kg_data)\n",
    "kg_data.describe().apply(lambda s: s.apply('{0:.2f}'.format))\n",
    "display(kg_data.hist(figsize=(12,3), layout=(1,3)))"
   ]
  },
  {
   "cell_type": "code",
   "execution_count": 34,
   "id": "636f7c09",
   "metadata": {},
   "outputs": [],
   "source": [
    "    # re-map user id\n",
    "    kg_data['r'] += 2\n",
    "    data.n_relations = max(kg_data['r']) + 1\n",
    "    data.n_entities = max(max(kg_data['h']), max(kg_data['t'])) + 1\n",
    "    data.n_users_entities = data.n_users + data.n_entities\n",
    "\n",
    "    data.cf_train_data = (np.array(list(map(lambda d: d + data.n_entities, data.cf_train_data[0]))).astype(np.int32), data.cf_train_data[1].astype(np.int32))\n",
    "    data.cf_test_data = (np.array(list(map(lambda d: d + data.n_entities, data.cf_test_data[0]))).astype(np.int32), data.cf_test_data[1].astype(np.int32))\n",
    "\n",
    "    data.train_user_dict = {k + data.n_entities: np.unique(v).astype(np.int32) for k, v in data.train_user_dict.items()}\n",
    "    data.test_user_dict = {k + data.n_entities: np.unique(v).astype(np.int32) for k, v in data.test_user_dict.items()}"
   ]
  },
  {
   "cell_type": "code",
   "execution_count": 35,
   "id": "7f26bdd5",
   "metadata": {},
   "outputs": [],
   "source": [
    "    # add interactions to kg data\n",
    "    cf2kg_train_data = pd.DataFrame(np.zeros((data.n_cf_train, 3), dtype=np.int32), columns=['h', 'r', 't'])\n",
    "    cf2kg_train_data['h'] = data.cf_train_data[0]\n",
    "    cf2kg_train_data['t'] = data.cf_train_data[1]\n",
    "\n",
    "    inverse_cf2kg_train_data = pd.DataFrame(np.ones((data.n_cf_train, 3), dtype=np.int32), columns=['h', 'r', 't'])\n",
    "    inverse_cf2kg_train_data['h'] = data.cf_train_data[1]\n",
    "    inverse_cf2kg_train_data['t'] = data.cf_train_data[0]\n",
    "\n",
    "    data.kg_train_data = pd.concat([kg_data, cf2kg_train_data, inverse_cf2kg_train_data], ignore_index=True)\n",
    "    data.n_kg_train = len(data.kg_train_data)"
   ]
  },
  {
   "cell_type": "code",
   "execution_count": 36,
   "id": "01562da6",
   "metadata": {},
   "outputs": [
    {
     "data": {
      "text/html": [
       "<div>\n",
       "<style scoped>\n",
       "    .dataframe tbody tr th:only-of-type {\n",
       "        vertical-align: middle;\n",
       "    }\n",
       "\n",
       "    .dataframe tbody tr th {\n",
       "        vertical-align: top;\n",
       "    }\n",
       "\n",
       "    .dataframe thead th {\n",
       "        text-align: right;\n",
       "    }\n",
       "</style>\n",
       "<table border=\"1\" class=\"dataframe\">\n",
       "  <thead>\n",
       "    <tr style=\"text-align: right;\">\n",
       "      <th></th>\n",
       "      <th>h</th>\n",
       "      <th>r</th>\n",
       "      <th>t</th>\n",
       "    </tr>\n",
       "  </thead>\n",
       "  <tbody>\n",
       "    <tr>\n",
       "      <th>0</th>\n",
       "      <td>24915</td>\n",
       "      <td>2</td>\n",
       "      <td>24916</td>\n",
       "    </tr>\n",
       "    <tr>\n",
       "      <th>1</th>\n",
       "      <td>24917</td>\n",
       "      <td>3</td>\n",
       "      <td>5117</td>\n",
       "    </tr>\n",
       "    <tr>\n",
       "      <th>2</th>\n",
       "      <td>24918</td>\n",
       "      <td>2</td>\n",
       "      <td>24917</td>\n",
       "    </tr>\n",
       "    <tr>\n",
       "      <th>3</th>\n",
       "      <td>24919</td>\n",
       "      <td>3</td>\n",
       "      <td>24920</td>\n",
       "    </tr>\n",
       "    <tr>\n",
       "      <th>4</th>\n",
       "      <td>24921</td>\n",
       "      <td>4</td>\n",
       "      <td>24922</td>\n",
       "    </tr>\n",
       "    <tr>\n",
       "      <th>...</th>\n",
       "      <td>...</td>\n",
       "      <td>...</td>\n",
       "      <td>...</td>\n",
       "    </tr>\n",
       "    <tr>\n",
       "      <th>6420515</th>\n",
       "      <td>15786</td>\n",
       "      <td>1</td>\n",
       "      <td>184165</td>\n",
       "    </tr>\n",
       "    <tr>\n",
       "      <th>6420516</th>\n",
       "      <td>3631</td>\n",
       "      <td>1</td>\n",
       "      <td>184165</td>\n",
       "    </tr>\n",
       "    <tr>\n",
       "      <th>6420517</th>\n",
       "      <td>6576</td>\n",
       "      <td>1</td>\n",
       "      <td>184165</td>\n",
       "    </tr>\n",
       "    <tr>\n",
       "      <th>6420518</th>\n",
       "      <td>15701</td>\n",
       "      <td>1</td>\n",
       "      <td>184165</td>\n",
       "    </tr>\n",
       "    <tr>\n",
       "      <th>6420519</th>\n",
       "      <td>3614</td>\n",
       "      <td>1</td>\n",
       "      <td>184165</td>\n",
       "    </tr>\n",
       "  </tbody>\n",
       "</table>\n",
       "<p>6420520 rows × 3 columns</p>\n",
       "</div>"
      ],
      "text/plain": [
       "             h  r       t\n",
       "0        24915  2   24916\n",
       "1        24917  3    5117\n",
       "2        24918  2   24917\n",
       "3        24919  3   24920\n",
       "4        24921  4   24922\n",
       "...        ... ..     ...\n",
       "6420515  15786  1  184165\n",
       "6420516   3631  1  184165\n",
       "6420517   6576  1  184165\n",
       "6420518  15701  1  184165\n",
       "6420519   3614  1  184165\n",
       "\n",
       "[6420520 rows x 3 columns]"
      ]
     },
     "metadata": {},
     "output_type": "display_data"
    },
    {
     "data": {
      "text/plain": [
       "array([[<AxesSubplot:title={'center':'h'}>,\n",
       "        <AxesSubplot:title={'center':'r'}>,\n",
       "        <AxesSubplot:title={'center':'t'}>]], dtype=object)"
      ]
     },
     "metadata": {},
     "output_type": "display_data"
    },
    {
     "data": {
      "image/png": "[encoded data removed]",
      "text/plain": [
       "<Figure size 864x216 with 3 Axes>"
      ]
     },
     "metadata": {
      "needs_background": "light"
     },
     "output_type": "display_data"
    }
   ],
   "source": [
    "display(data.kg_train_data)\n",
    "data.kg_train_data.describe().apply(lambda s: s.apply('{0:.2f}'.format))\n",
    "display(data.kg_train_data.hist(figsize=(12,3), layout=(1,3)))"
   ]
  },
  {
   "cell_type": "code",
   "execution_count": 37,
   "id": "9c72f4a5",
   "metadata": {},
   "outputs": [],
   "source": [
    "    # construct kg dict\n",
    "    h_list = []\n",
    "    t_list = []\n",
    "    r_list = []\n",
    "\n",
    "    data.train_kg_dict = collections.defaultdict(list)\n",
    "    data.train_relation_dict = collections.defaultdict(list)\n",
    "\n",
    "    for row in data.kg_train_data.iterrows():\n",
    "        h, r, t = row[1]\n",
    "        h_list.append(h)\n",
    "        t_list.append(t)\n",
    "        r_list.append(r)\n",
    "\n",
    "        data.train_kg_dict[h].append((t, r))\n",
    "        data.train_relation_dict[r].append((h, t))\n",
    "\n",
    "    data.h_list = torch.LongTensor(h_list)\n",
    "    data.t_list = torch.LongTensor(t_list)\n",
    "    data.r_list = torch.LongTensor(r_list)"
   ]
  },
  {
   "cell_type": "code",
   "execution_count": null,
   "id": "09b1e1de",
   "metadata": {},
   "outputs": [],
   "source": []
  }
 ],
 "metadata": {
  "kernelspec": {
   "display_name": "Python 3 (ipykernel)",
   "language": "python",
   "name": "python3"
  },
  "language_info": {
   "codemirror_mode": {
    "name": "ipython",
    "version": 3
   },
   "file_extension": ".py",
   "mimetype": "text/x-python",
   "name": "python",
   "nbconvert_exporter": "python",
   "pygments_lexer": "ipython3",
   "version": "3.9.7"
  }
 },
 "nbformat": 4,
 "nbformat_minor": 5
}
